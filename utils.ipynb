{
 "cells": [
  {
   "cell_type": "code",
   "execution_count": null,
   "metadata": {},
   "outputs": [],
   "source": [
    "# Notebook utilizado para o data transform"
   ]
  },
  {
   "cell_type": "code",
   "execution_count": 27,
   "metadata": {},
   "outputs": [],
   "source": [
    "import requests\n",
    "import pandas as pd\n",
    "from datetime import datetime"
   ]
  },
  {
   "cell_type": "code",
   "execution_count": 28,
   "metadata": {},
   "outputs": [],
   "source": [
    "HOST = \"https://dadosabertos.camara.leg.br\""
   ]
  },
  {
   "cell_type": "code",
   "execution_count": 29,
   "metadata": {},
   "outputs": [],
   "source": [
    "def get_all_partys_current():\n",
    "    today = str(datetime.now().date())\n",
    "    url = HOST+\"/api/v2/partidos?dataInicio=\"+today\n",
    "    response = requests.get(url).json()\n",
    "    return response"
   ]
  },
  {
   "cell_type": "code",
   "execution_count": 30,
   "metadata": {},
   "outputs": [],
   "source": [
    "def transform_partys_dict_to_dataframe():\n",
    "    party =  get_all_partys_current()\n",
    "    data = party['dados']\n",
    "    df = pd.DataFrame(data)\n",
    "    df = df.drop(['uri'], axis=1)\n",
    "    return df"
   ]
  },
  {
   "cell_type": "code",
   "execution_count": 31,
   "metadata": {},
   "outputs": [],
   "source": [
    "data = transform_partys_dict_to_dataframe()"
   ]
  },
  {
   "cell_type": "code",
   "execution_count": 32,
   "metadata": {},
   "outputs": [
    {
     "data": {
      "text/html": [
       "<div>\n",
       "<style scoped>\n",
       "    .dataframe tbody tr th:only-of-type {\n",
       "        vertical-align: middle;\n",
       "    }\n",
       "\n",
       "    .dataframe tbody tr th {\n",
       "        vertical-align: top;\n",
       "    }\n",
       "\n",
       "    .dataframe thead th {\n",
       "        text-align: right;\n",
       "    }\n",
       "</style>\n",
       "<table border=\"1\" class=\"dataframe\">\n",
       "  <thead>\n",
       "    <tr style=\"text-align: right;\">\n",
       "      <th></th>\n",
       "      <th>id</th>\n",
       "      <th>sigla</th>\n",
       "      <th>nome</th>\n",
       "    </tr>\n",
       "  </thead>\n",
       "  <tbody>\n",
       "    <tr>\n",
       "      <th>0</th>\n",
       "      <td>36898</td>\n",
       "      <td>AVANTE</td>\n",
       "      <td>Avante</td>\n",
       "    </tr>\n",
       "    <tr>\n",
       "      <th>1</th>\n",
       "      <td>37905</td>\n",
       "      <td>CIDADANIA</td>\n",
       "      <td>Cidadania</td>\n",
       "    </tr>\n",
       "    <tr>\n",
       "      <th>2</th>\n",
       "      <td>36899</td>\n",
       "      <td>MDB</td>\n",
       "      <td>Movimento Democrático Brasileiro</td>\n",
       "    </tr>\n",
       "    <tr>\n",
       "      <th>3</th>\n",
       "      <td>37901</td>\n",
       "      <td>NOVO</td>\n",
       "      <td>Partido Novo</td>\n",
       "    </tr>\n",
       "    <tr>\n",
       "      <th>4</th>\n",
       "      <td>37907</td>\n",
       "      <td>PATRIOTA</td>\n",
       "      <td>Patriota</td>\n",
       "    </tr>\n",
       "    <tr>\n",
       "      <th>5</th>\n",
       "      <td>36779</td>\n",
       "      <td>PCdoB</td>\n",
       "      <td>Partido Comunista do Brasil</td>\n",
       "    </tr>\n",
       "    <tr>\n",
       "      <th>6</th>\n",
       "      <td>36786</td>\n",
       "      <td>PDT</td>\n",
       "      <td>Partido Democrático Trabalhista</td>\n",
       "    </tr>\n",
       "    <tr>\n",
       "      <th>7</th>\n",
       "      <td>37906</td>\n",
       "      <td>PL</td>\n",
       "      <td>Partido Liberal</td>\n",
       "    </tr>\n",
       "    <tr>\n",
       "      <th>8</th>\n",
       "      <td>36896</td>\n",
       "      <td>PODE</td>\n",
       "      <td>Podemos</td>\n",
       "    </tr>\n",
       "    <tr>\n",
       "      <th>9</th>\n",
       "      <td>37903</td>\n",
       "      <td>PP</td>\n",
       "      <td>Progressistas</td>\n",
       "    </tr>\n",
       "    <tr>\n",
       "      <th>10</th>\n",
       "      <td>36763</td>\n",
       "      <td>PROS</td>\n",
       "      <td>Partido Republicano da Ordem Social</td>\n",
       "    </tr>\n",
       "    <tr>\n",
       "      <th>11</th>\n",
       "      <td>36832</td>\n",
       "      <td>PSB</td>\n",
       "      <td>Partido Socialista Brasileiro</td>\n",
       "    </tr>\n",
       "    <tr>\n",
       "      <th>12</th>\n",
       "      <td>36833</td>\n",
       "      <td>PSC</td>\n",
       "      <td>Partido Social Cristão</td>\n",
       "    </tr>\n",
       "    <tr>\n",
       "      <th>13</th>\n",
       "      <td>36834</td>\n",
       "      <td>PSD</td>\n",
       "      <td>Partido Social Democrático</td>\n",
       "    </tr>\n",
       "    <tr>\n",
       "      <th>14</th>\n",
       "      <td>36835</td>\n",
       "      <td>PSDB</td>\n",
       "      <td>Partido da Social Democracia Brasileira</td>\n",
       "    </tr>\n",
       "  </tbody>\n",
       "</table>\n",
       "</div>"
      ],
      "text/plain": [
       "       id      sigla                                     nome\n",
       "0   36898     AVANTE                                   Avante\n",
       "1   37905  CIDADANIA                                Cidadania\n",
       "2   36899        MDB         Movimento Democrático Brasileiro\n",
       "3   37901       NOVO                             Partido Novo\n",
       "4   37907   PATRIOTA                                 Patriota\n",
       "5   36779      PCdoB              Partido Comunista do Brasil\n",
       "6   36786        PDT          Partido Democrático Trabalhista\n",
       "7   37906         PL                          Partido Liberal\n",
       "8   36896       PODE                                  Podemos\n",
       "9   37903         PP                            Progressistas\n",
       "10  36763       PROS      Partido Republicano da Ordem Social\n",
       "11  36832        PSB            Partido Socialista Brasileiro\n",
       "12  36833        PSC                   Partido Social Cristão\n",
       "13  36834        PSD               Partido Social Democrático\n",
       "14  36835       PSDB  Partido da Social Democracia Brasileira"
      ]
     },
     "execution_count": 32,
     "metadata": {},
     "output_type": "execute_result"
    }
   ],
   "source": [
    "data"
   ]
  },
  {
   "cell_type": "code",
   "execution_count": null,
   "metadata": {},
   "outputs": [],
   "source": [
    "def get_all_partys_current():\n",
    "    today = str(datetime.now().date())\n",
    "    url = HOST+\"/api/v2/partidos?dataInicio=\"+today\n",
    "    response = requests.get(url).json()\n",
    "    return response"
   ]
  }
 ],
 "metadata": {
  "kernelspec": {
   "display_name": "Python 3.10.0 ('myenv': venv)",
   "language": "python",
   "name": "python3"
  },
  "language_info": {
   "codemirror_mode": {
    "name": "ipython",
    "version": 3
   },
   "file_extension": ".py",
   "mimetype": "text/x-python",
   "name": "python",
   "nbconvert_exporter": "python",
   "pygments_lexer": "ipython3",
   "version": "3.10.0"
  },
  "orig_nbformat": 4,
  "vscode": {
   "interpreter": {
    "hash": "0be438d26fdb23213df10eb59010b9278a8f21ce440307d9cbd42d6e141dd7b5"
   }
  }
 },
 "nbformat": 4,
 "nbformat_minor": 2
}
